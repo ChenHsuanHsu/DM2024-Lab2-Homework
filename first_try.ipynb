{
 "cells": [
  {
   "cell_type": "markdown",
   "id": "f5a0acbd-16bc-40fd-8063-155ee5dcb35f",
   "metadata": {},
   "source": [
    "## tweets emotion prediction\n",
    "homework in DMLab2  \n",
    "[link to Kaggle](https://www.kaggle.com/competitions/dm-2024-isa-5810-lab-2-homework)"
   ]
  },
  {
   "cell_type": "markdown",
   "id": "64e5cb57",
   "metadata": {},
   "source": [
    "數據集為 Twitter 上抓取，並已經根據原始文本中的特定標籤標記了這些推文的情緒。\n",
    "數據集中有 8 個類別（或稱情緒）：憤怒 (anger)、期待 (anticipation)、厭惡 (disgust)、恐懼 (fear)、悲傷 (sadness)、驚訝 (surprise)、信任 (trust) 和喜悅 (joy)。\n",
    "\n",
    "需要先對數據進行清理，進行一些預處理。然後，應用特徵工程或您在資料挖掘課程中學過或沒學過的其他數據挖掘技術。最終目標是學習一個能夠預測每條推文背後情緒的模型。"
   ]
  },
  {
   "cell_type": "markdown",
   "id": "bae66f0f-5b3a-4925-bbbf-95c306a0f51c",
   "metadata": {},
   "source": [
    "## 1.1 Load data\n",
    "explore the raw data (.json) in explore_json.ipynb in file under Homework\n",
    "transform it to dataframe 載入原始資料集（推文）並查看內容   "
   ]
  },
  {
   "cell_type": "code",
   "execution_count": 2,
   "id": "0f064b29-7831-44a3-a143-f632866bad7f",
   "metadata": {},
   "outputs": [
    {
     "name": "stdout",
     "output_type": "stream",
     "text": [
      "         tweet_id                                               text\n",
      "0        0x376b20  People who post \"add me on #Snapchat\" must be ...\n",
      "1        0x2d5350  @brianklaas As we see, Trump is dangerous to #...\n",
      "2        0x28b412  Confident of your obedience, I write to you, k...\n",
      "3        0x1cd5b0                Now ISSA is stalking Tasha 😂😂😂 <LH>\n",
      "4        0x2de201  \"Trust is not the same as faith. A friend is s...\n",
      "...           ...                                                ...\n",
      "1867530  0x316b80  When you buy the last 2 tickets remaining for ...\n",
      "1867531  0x29d0cb  I swear all this hard work gone pay off one da...\n",
      "1867532  0x2a6a4f  @Parcel2Go no card left when I wasn't in so I ...\n",
      "1867533  0x24faed  Ah, corporate life, where you can date <LH> us...\n",
      "1867534  0x34be8c             Blessed to be living #Sundayvibes <LH>\n",
      "\n",
      "[1867535 rows x 2 columns]\n"
     ]
    }
   ],
   "source": [
    "import json\n",
    "import pandas as pd\n",
    "\n",
    "# 存儲提取數據的列表\n",
    "tweets_data = []\n",
    "\n",
    "# 讀取 JSON 文件\n",
    "with open('dm-2024-isa-5810-lab-2-homework/tweets_DM.json', 'r') as file:\n",
    "    for line in file:\n",
    "        try:\n",
    "            # 解析 JSON 每行\n",
    "            tweet = json.loads(line)\n",
    "            # 提取所需的欄位\n",
    "            tweet_id = tweet[\"_source\"][\"tweet\"].get(\"tweet_id\")\n",
    "            text = tweet[\"_source\"][\"tweet\"].get(\"text\")\n",
    "            #hashtags = tweet[\"_source\"][\"tweet\"].get(\"hashtags\", [])\n",
    "            #crawldate = tweet.get(\"_crawldate\")\n",
    "\n",
    "            # 將提取的欄位存入字典，並添加到列表中\n",
    "            tweets_data.append({\n",
    "                \"tweet_id\": tweet_id,\n",
    "                \"text\": text,\n",
    "                #\"hashtags\": hashtags,\n",
    "                #\"crawldate\": crawldate\n",
    "            })\n",
    "        except json.JSONDecodeError as e:\n",
    "            print(\"JSON decode error:\", e)\n",
    "\n",
    "# 將提取的數據轉換為 DataFrame\n",
    "df = pd.DataFrame(tweets_data)\n",
    "\n",
    "# 查看數據框內容\n",
    "print(df)"
   ]
  },
  {
   "cell_type": "markdown",
   "id": "1bd73c9e-e40c-49fa-93ca-eff4f41fc7fb",
   "metadata": {},
   "source": [
    "### interpret for the data  \n",
    "using files provided on Kaggle to classify the training and testing data  描述訓練資料集的特徵 describe features in training data\n",
    "  \n",
    "提供data_identification.csv以提供如何區分哪些資料為訓練集／測試集  \n",
    "emotion.csv則是提供訓練集部分的資料之情緒  \n",
    "  \n",
    "資料總數共有1867535個(rows)，兩個欄位(column)分別註記tweet_id以及文字內容text\n",
    "[1867535 rows x 2 columns]"
   ]
  },
  {
   "cell_type": "markdown",
   "id": "6e255703",
   "metadata": {},
   "source": [
    "### preprocessing \n",
    "match the tweet_id to compact identification and emotion\n",
    "  \n",
    "其中因為測試集中並無提供情緒資料（待提交），在compact時使用how='outer'防止後續處理將所有測試資料集過濾掉"
   ]
  },
  {
   "cell_type": "code",
   "execution_count": 3,
   "id": "5decd8b6-c2a1-4a4c-b5dc-a9d3553212d4",
   "metadata": {},
   "outputs": [],
   "source": [
    "classify = pd.read_csv('dm-2024-isa-5810-lab-2-homework/data_identification.csv')  # 包含 tweet_id 和 identification\n",
    "emotion = pd.read_csv('dm-2024-isa-5810-lab-2-homework/emotion.csv')  # 包含 tweet_id 和 emotion\n",
    "data = pd.merge(df, classify, on='tweet_id', how='inner')\n",
    "data = pd.merge(data, emotion, on='tweet_id', how='outer')\n",
    "# data # 將情緒特徵及資料分類欄位加入相同dataframe"
   ]
  },
  {
   "cell_type": "markdown",
   "id": "57402175",
   "metadata": {},
   "source": [
    "資料總數不變，但多兩個欄位以區分為測試或訓練集，以及該推文對應的情緒（含NaN），為測試集之空資料點。"
   ]
  },
  {
   "cell_type": "code",
   "execution_count": 4,
   "id": "4d9488b4-c437-45fe-a8c5-b3ee0d14604b",
   "metadata": {},
   "outputs": [
    {
     "data": {
      "text/html": [
       "<div>\n",
       "<style scoped>\n",
       "    .dataframe tbody tr th:only-of-type {\n",
       "        vertical-align: middle;\n",
       "    }\n",
       "\n",
       "    .dataframe tbody tr th {\n",
       "        vertical-align: top;\n",
       "    }\n",
       "\n",
       "    .dataframe thead th {\n",
       "        text-align: right;\n",
       "    }\n",
       "</style>\n",
       "<table border=\"1\" class=\"dataframe\">\n",
       "  <thead>\n",
       "    <tr style=\"text-align: right;\">\n",
       "      <th></th>\n",
       "      <th>tweet_id</th>\n",
       "      <th>text</th>\n",
       "      <th>identification</th>\n",
       "      <th>emotion</th>\n",
       "    </tr>\n",
       "  </thead>\n",
       "  <tbody>\n",
       "    <tr>\n",
       "      <th>2</th>\n",
       "      <td>0x28b412</td>\n",
       "      <td>Confident of your obedience, I write to you, k...</td>\n",
       "      <td>test</td>\n",
       "      <td>NaN</td>\n",
       "    </tr>\n",
       "    <tr>\n",
       "      <th>4</th>\n",
       "      <td>0x2de201</td>\n",
       "      <td>\"Trust is not the same as faith. A friend is s...</td>\n",
       "      <td>test</td>\n",
       "      <td>NaN</td>\n",
       "    </tr>\n",
       "    <tr>\n",
       "      <th>9</th>\n",
       "      <td>0x218443</td>\n",
       "      <td>When do you have enough ? When are you satisfi...</td>\n",
       "      <td>test</td>\n",
       "      <td>NaN</td>\n",
       "    </tr>\n",
       "    <tr>\n",
       "      <th>30</th>\n",
       "      <td>0x2939d5</td>\n",
       "      <td>God woke you up, now chase the day #GodsPlan #...</td>\n",
       "      <td>test</td>\n",
       "      <td>NaN</td>\n",
       "    </tr>\n",
       "    <tr>\n",
       "      <th>33</th>\n",
       "      <td>0x26289a</td>\n",
       "      <td>In these tough times, who do YOU turn to as yo...</td>\n",
       "      <td>test</td>\n",
       "      <td>NaN</td>\n",
       "    </tr>\n",
       "    <tr>\n",
       "      <th>...</th>\n",
       "      <td>...</td>\n",
       "      <td>...</td>\n",
       "      <td>...</td>\n",
       "      <td>...</td>\n",
       "    </tr>\n",
       "    <tr>\n",
       "      <th>1867525</th>\n",
       "      <td>0x2913b4</td>\n",
       "      <td>\"For this is the message that ye heard from th...</td>\n",
       "      <td>test</td>\n",
       "      <td>NaN</td>\n",
       "    </tr>\n",
       "    <tr>\n",
       "      <th>1867529</th>\n",
       "      <td>0x2a980e</td>\n",
       "      <td>\"There is a lad here, which hath five barley l...</td>\n",
       "      <td>test</td>\n",
       "      <td>NaN</td>\n",
       "    </tr>\n",
       "    <tr>\n",
       "      <th>1867530</th>\n",
       "      <td>0x316b80</td>\n",
       "      <td>When you buy the last 2 tickets remaining for ...</td>\n",
       "      <td>test</td>\n",
       "      <td>NaN</td>\n",
       "    </tr>\n",
       "    <tr>\n",
       "      <th>1867531</th>\n",
       "      <td>0x29d0cb</td>\n",
       "      <td>I swear all this hard work gone pay off one da...</td>\n",
       "      <td>test</td>\n",
       "      <td>NaN</td>\n",
       "    </tr>\n",
       "    <tr>\n",
       "      <th>1867532</th>\n",
       "      <td>0x2a6a4f</td>\n",
       "      <td>@Parcel2Go no card left when I wasn't in so I ...</td>\n",
       "      <td>test</td>\n",
       "      <td>NaN</td>\n",
       "    </tr>\n",
       "  </tbody>\n",
       "</table>\n",
       "<p>411972 rows × 4 columns</p>\n",
       "</div>"
      ],
      "text/plain": [
       "         tweet_id                                               text  \\\n",
       "2        0x28b412  Confident of your obedience, I write to you, k...   \n",
       "4        0x2de201  \"Trust is not the same as faith. A friend is s...   \n",
       "9        0x218443  When do you have enough ? When are you satisfi...   \n",
       "30       0x2939d5  God woke you up, now chase the day #GodsPlan #...   \n",
       "33       0x26289a  In these tough times, who do YOU turn to as yo...   \n",
       "...           ...                                                ...   \n",
       "1867525  0x2913b4  \"For this is the message that ye heard from th...   \n",
       "1867529  0x2a980e  \"There is a lad here, which hath five barley l...   \n",
       "1867530  0x316b80  When you buy the last 2 tickets remaining for ...   \n",
       "1867531  0x29d0cb  I swear all this hard work gone pay off one da...   \n",
       "1867532  0x2a6a4f  @Parcel2Go no card left when I wasn't in so I ...   \n",
       "\n",
       "        identification emotion  \n",
       "2                 test     NaN  \n",
       "4                 test     NaN  \n",
       "9                 test     NaN  \n",
       "30                test     NaN  \n",
       "33                test     NaN  \n",
       "...                ...     ...  \n",
       "1867525           test     NaN  \n",
       "1867529           test     NaN  \n",
       "1867530           test     NaN  \n",
       "1867531           test     NaN  \n",
       "1867532           test     NaN  \n",
       "\n",
       "[411972 rows x 4 columns]"
      ]
     },
     "execution_count": 4,
     "metadata": {},
     "output_type": "execute_result"
    }
   ],
   "source": [
    "# 將 data_identification 中 identification 欄位值為 'train' 的選出來作為訓練集\n",
    "train_data = data[data['identification'] == 'train']\n",
    "\n",
    "# 將 identification 欄位值為 'test' 的選出來作為測試集\n",
    "test_data = data[data['identification'] == 'test']\n",
    "\n",
    "# 所有情感emotion in emotion.csv\n",
    "emotions = data['emotion'].unique()\n",
    "\n",
    "# 使用字典來存儲不同情感的訓練集\n",
    "train_data_by_emotion = {emotion: train_data[train_data['emotion'] == emotion] for emotion in emotions}\n",
    "\n",
    "# 使用字典管理子 DataFrame\n",
    "sub_dfs = {emotion: train_data_by_emotion[emotion] for emotion in emotions}\n",
    "sub_dfs['anger'] # example for extract specific emotion\n",
    "train_data\n",
    "test_data"
   ]
  },
  {
   "cell_type": "markdown",
   "id": "7badc59c-a582-443a-b28d-a551f3c0da18",
   "metadata": {},
   "source": [
    "需使用情緒做特徵提取時用 print(sub_dfs['anger'].head())直接從datareame中提取  \n",
    "使用sample減少資料量，以減少訓練時間"
   ]
  },
  {
   "cell_type": "markdown",
   "id": "703e849a-04a6-49d3-be1a-cbb48ca3a26f",
   "metadata": {},
   "source": [
    "---\n",
    "### 1.2 Save data  \n",
    "儲存資料，用比較不佔空間且容易在跨平台使用的格式  \n",
    "save data in smaller size"
   ]
  },
  {
   "cell_type": "code",
   "execution_count": 5,
   "id": "99b4ddb1-2705-4066-b2e0-96b115c46811",
   "metadata": {},
   "outputs": [
    {
     "data": {
      "text/html": [
       "<div>\n",
       "<style scoped>\n",
       "    .dataframe tbody tr th:only-of-type {\n",
       "        vertical-align: middle;\n",
       "    }\n",
       "\n",
       "    .dataframe tbody tr th {\n",
       "        vertical-align: top;\n",
       "    }\n",
       "\n",
       "    .dataframe thead th {\n",
       "        text-align: right;\n",
       "    }\n",
       "</style>\n",
       "<table border=\"1\" class=\"dataframe\">\n",
       "  <thead>\n",
       "    <tr style=\"text-align: right;\">\n",
       "      <th></th>\n",
       "      <th>tweet_id</th>\n",
       "      <th>text</th>\n",
       "      <th>identification</th>\n",
       "      <th>emotion</th>\n",
       "    </tr>\n",
       "  </thead>\n",
       "  <tbody>\n",
       "    <tr>\n",
       "      <th>2</th>\n",
       "      <td>0x28b412</td>\n",
       "      <td>Confident of your obedience, I write to you, k...</td>\n",
       "      <td>test</td>\n",
       "      <td>NaN</td>\n",
       "    </tr>\n",
       "    <tr>\n",
       "      <th>4</th>\n",
       "      <td>0x2de201</td>\n",
       "      <td>\"Trust is not the same as faith. A friend is s...</td>\n",
       "      <td>test</td>\n",
       "      <td>NaN</td>\n",
       "    </tr>\n",
       "    <tr>\n",
       "      <th>9</th>\n",
       "      <td>0x218443</td>\n",
       "      <td>When do you have enough ? When are you satisfi...</td>\n",
       "      <td>test</td>\n",
       "      <td>NaN</td>\n",
       "    </tr>\n",
       "    <tr>\n",
       "      <th>30</th>\n",
       "      <td>0x2939d5</td>\n",
       "      <td>God woke you up, now chase the day #GodsPlan #...</td>\n",
       "      <td>test</td>\n",
       "      <td>NaN</td>\n",
       "    </tr>\n",
       "    <tr>\n",
       "      <th>33</th>\n",
       "      <td>0x26289a</td>\n",
       "      <td>In these tough times, who do YOU turn to as yo...</td>\n",
       "      <td>test</td>\n",
       "      <td>NaN</td>\n",
       "    </tr>\n",
       "    <tr>\n",
       "      <th>...</th>\n",
       "      <td>...</td>\n",
       "      <td>...</td>\n",
       "      <td>...</td>\n",
       "      <td>...</td>\n",
       "    </tr>\n",
       "    <tr>\n",
       "      <th>1867525</th>\n",
       "      <td>0x2913b4</td>\n",
       "      <td>\"For this is the message that ye heard from th...</td>\n",
       "      <td>test</td>\n",
       "      <td>NaN</td>\n",
       "    </tr>\n",
       "    <tr>\n",
       "      <th>1867529</th>\n",
       "      <td>0x2a980e</td>\n",
       "      <td>\"There is a lad here, which hath five barley l...</td>\n",
       "      <td>test</td>\n",
       "      <td>NaN</td>\n",
       "    </tr>\n",
       "    <tr>\n",
       "      <th>1867530</th>\n",
       "      <td>0x316b80</td>\n",
       "      <td>When you buy the last 2 tickets remaining for ...</td>\n",
       "      <td>test</td>\n",
       "      <td>NaN</td>\n",
       "    </tr>\n",
       "    <tr>\n",
       "      <th>1867531</th>\n",
       "      <td>0x29d0cb</td>\n",
       "      <td>I swear all this hard work gone pay off one da...</td>\n",
       "      <td>test</td>\n",
       "      <td>NaN</td>\n",
       "    </tr>\n",
       "    <tr>\n",
       "      <th>1867532</th>\n",
       "      <td>0x2a6a4f</td>\n",
       "      <td>@Parcel2Go no card left when I wasn't in so I ...</td>\n",
       "      <td>test</td>\n",
       "      <td>NaN</td>\n",
       "    </tr>\n",
       "  </tbody>\n",
       "</table>\n",
       "<p>411972 rows × 4 columns</p>\n",
       "</div>"
      ],
      "text/plain": [
       "         tweet_id                                               text  \\\n",
       "2        0x28b412  Confident of your obedience, I write to you, k...   \n",
       "4        0x2de201  \"Trust is not the same as faith. A friend is s...   \n",
       "9        0x218443  When do you have enough ? When are you satisfi...   \n",
       "30       0x2939d5  God woke you up, now chase the day #GodsPlan #...   \n",
       "33       0x26289a  In these tough times, who do YOU turn to as yo...   \n",
       "...           ...                                                ...   \n",
       "1867525  0x2913b4  \"For this is the message that ye heard from th...   \n",
       "1867529  0x2a980e  \"There is a lad here, which hath five barley l...   \n",
       "1867530  0x316b80  When you buy the last 2 tickets remaining for ...   \n",
       "1867531  0x29d0cb  I swear all this hard work gone pay off one da...   \n",
       "1867532  0x2a6a4f  @Parcel2Go no card left when I wasn't in so I ...   \n",
       "\n",
       "        identification emotion  \n",
       "2                 test     NaN  \n",
       "4                 test     NaN  \n",
       "9                 test     NaN  \n",
       "30                test     NaN  \n",
       "33                test     NaN  \n",
       "...                ...     ...  \n",
       "1867525           test     NaN  \n",
       "1867529           test     NaN  \n",
       "1867530           test     NaN  \n",
       "1867531           test     NaN  \n",
       "1867532           test     NaN  \n",
       "\n",
       "[411972 rows x 4 columns]"
      ]
     },
     "execution_count": 5,
     "metadata": {},
     "output_type": "execute_result"
    }
   ],
   "source": [
    "import pandas as pd\n",
    "\n",
    "## save to pickle file\n",
    "train_data.to_pickle(\"train_data.pkl\") \n",
    "test_data.to_pickle(\"test_data.pkl\")\n",
    "\n",
    "## load a pickle file\n",
    "train_data = pd.read_pickle(\"train_data.pkl\")\n",
    "test_data = pd.read_pickle(\"test_data.pkl\")\n",
    "test_data # already check the size is 411972"
   ]
  },
  {
   "cell_type": "markdown",
   "id": "dd011800-ef59-4909-92dd-73a1ff178e21",
   "metadata": {},
   "source": [
    "---\n",
    "### 1.3 Exploratory data analysis (EDA)"
   ]
  },
  {
   "cell_type": "markdown",
   "id": "9fb16ee5-ace0-4df1-9878-4be230b633cd",
   "metadata": {},
   "source": [
    "繪製出所有訓練資料集的情感分布（百分比）"
   ]
  },
  {
   "cell_type": "code",
   "execution_count": 6,
   "id": "c0ea8427-4e3e-4850-8516-c97c5b4de186",
   "metadata": {},
   "outputs": [
    {
     "data": {
      "image/png": "[encoded data removed]",
      "text/plain": [
       "<Figure size 800x500 with 1 Axes>"
      ]
     },
     "metadata": {},
     "output_type": "display_data"
    }
   ],
   "source": [
    "# %matplotlib inline\n",
    "import numpy as np\n",
    "import matplotlib.pyplot as plt\n",
    "\n",
    "# `emotions` 是包含所有情感類別的列表，在先前已有定義； `train_data` 包含所有訓練數據\n",
    "labels = emotions\n",
    "post_total = len(train_data)\n",
    "\n",
    "# 計算每個情感的頻率 frequency\n",
    "d_bar = train_data.groupby(['emotion']).count()['text'] / post_total * 100  # 計算每個情感的佔比（百分比）\n",
    "\n",
    "# 繪製直方圖\n",
    "fig, ax = plt.subplots(figsize=(8, 5))\n",
    "plt.bar(d_bar.index, d_bar.values)  # 使用 d_bar 進行繪製\n",
    "\n",
    "# 設置圖表標題和標籤\n",
    "plt.ylabel('% of instances')\n",
    "plt.xlabel('Emotion')\n",
    "plt.title('Emotion Distribution')\n",
    "plt.grid(True)\n",
    "plt.show()"
   ]
  },
  {
   "cell_type": "markdown",
   "id": "75591fc0-b2c2-42e3-8ba8-b81938fab823",
   "metadata": {},
   "source": [
    "可以觀察到在所有訓練集中，分佈最多的是joy（愉悅、快樂）。 此百分比代表了被發布的推文中，隨著貼文帶著的情緒。  \n",
    "  \n",
    "接著開始分析文本，將文字轉換成向量"
   ]
  },
  {
   "cell_type": "markdown",
   "id": "b18bdf91-01c1-499e-81bf-59aba5a0dc31",
   "metadata": {},
   "source": [
    "## 2. Feature engineering\n"
   ]
  },
  {
   "cell_type": "markdown",
   "id": "c17f99ca",
   "metadata": {},
   "source": [
    "### Using Bag of Words\n",
    "Using scikit-learn ```CountVectorizer``` perform word frequency and use these as features to train a model.  "
   ]
  },
  {
   "cell_type": "code",
   "execution_count": 7,
   "id": "282b4cf4-db2f-45ce-963e-13be5917c48d",
   "metadata": {},
   "outputs": [],
   "source": [
    "from sklearn.feature_extraction.text import CountVectorizer"
   ]
  },
  {
   "cell_type": "code",
   "execution_count": 8,
   "id": "bd9cf798-cec1-4edd-ab41-c1c349d2f41e",
   "metadata": {},
   "outputs": [],
   "source": [
    "# build analyzers (bag-of-words)\n",
    "BOW_vectorizer = CountVectorizer() "
   ]
  },
  {
   "cell_type": "code",
   "execution_count": 9,
   "id": "ea7f8ab6-ceb5-4966-a6e9-9dcc7fdc751a",
   "metadata": {},
   "outputs": [
    {
     "name": "stderr",
     "output_type": "stream",
     "text": [
      "/opt/anaconda3/lib/python3.9/site-packages/sklearn/feature_extraction/text.py:521: UserWarning: The parameter 'token_pattern' will not be used since 'tokenizer' is not None'\n",
      "  warnings.warn(\n"
     ]
    },
    {
     "data": {
      "text/plain": [
       "array([[0, 1, 0, ..., 0, 0, 0],\n",
       "       [0, 3, 0, ..., 0, 0, 0],\n",
       "       [0, 0, 0, ..., 0, 0, 0],\n",
       "       ...,\n",
       "       [0, 1, 0, ..., 0, 0, 0],\n",
       "       [0, 0, 0, ..., 0, 0, 0],\n",
       "       [0, 1, 0, ..., 0, 0, 0]])"
      ]
     },
     "execution_count": 9,
     "metadata": {},
     "output_type": "execute_result"
    }
   ],
   "source": [
    "import nltk\n",
    "# build analyzers (bag-of-words)\n",
    "BOW_500 = CountVectorizer(max_features=500, tokenizer=nltk.word_tokenize) \n",
    "\n",
    "# apply analyzer to training data\n",
    "BOW_500.fit(train_data['text'])\n",
    "\n",
    "train_data_BOW_features_500 = BOW_500.transform(train_data['text'])\n",
    "\n",
    "## check dimension\n",
    "train_data_BOW_features_500.shape\n",
    "\n",
    "## adjust its type for visualize\n",
    "train_data_BOW_features_500.toarray()"
   ]
  },
  {
   "cell_type": "code",
   "execution_count": 10,
   "id": "99ac65a5",
   "metadata": {},
   "outputs": [
    {
     "data": {
      "text/plain": [
       "True"
      ]
     },
     "execution_count": 10,
     "metadata": {},
     "output_type": "execute_result"
    }
   ],
   "source": [
    "# observe some feature names\n",
    "feature_names_500 = BOW_500.get_feature_names_out()\n",
    "\"😂\" in feature_names_500"
   ]
  },
  {
   "cell_type": "markdown",
   "id": "c1e1afcc",
   "metadata": {},
   "source": [
    "### Using TF-IDF\n",
    "Using scikit-learn ```TfidfVectorizer``` perform word frequency and use these as features to train a model.  \n",
    "使用不同的向量化工具"
   ]
  },
  {
   "cell_type": "code",
   "execution_count": 11,
   "id": "cf3a6212",
   "metadata": {},
   "outputs": [],
   "source": [
    "from sklearn.feature_extraction.text import TfidfVectorizer\n",
    "\n",
    "# 初始化 TfidfVectorizer，并限制特征数为 1000\n",
    "tfidf_vect = TfidfVectorizer(max_features=1000)\n",
    "\n",
    "# 使用 TF-IDF 向量化器进行训练集和测试集的向量化\n",
    "train_tfidf = tfidf_vect.fit_transform(train_data[\"text\"])\n",
    "test_tfidf = tfidf_vect.transform(test_data[\"text\"])\n",
    "\n",
    "# 获取特征名称列表\n",
    "feature_names_tf = tfidf_vect.get_feature_names_out()"
   ]
  },
  {
   "cell_type": "markdown",
   "id": "76a17d65",
   "metadata": {},
   "source": [
    "---\n",
    "## 3. Model\n"
   ]
  },
  {
   "cell_type": "markdown",
   "id": "52715d0b",
   "metadata": {},
   "source": [
    "### 3.1 Decision Trees\n",
    "Using scikit-learn ```DecisionTreeClassifier``` performs word frequency and uses these as features to train a model.  "
   ]
  },
  {
   "cell_type": "code",
   "execution_count": 12,
   "id": "de07f40e-eb9e-45b9-aa15-19d6d79c0364",
   "metadata": {},
   "outputs": [
    {
     "name": "stdout",
     "output_type": "stream",
     "text": [
      "X_train.shape:  (1455563, 500)\n",
      "y_train.shape:  (1455563,)\n"
     ]
    }
   ],
   "source": [
    "from sklearn.tree import DecisionTreeClassifier\n",
    "\n",
    "# for a classificaiton problem, you need to provide both training & testing data\n",
    "X_train = BOW_500.transform(train_data['text'])\n",
    "y_train = train_data['emotion']\n",
    "\n",
    "#X_test = BOW_500.transform(test_data['text'])\n",
    "#y_test = test_data['emotion']\n",
    "\n",
    "## take a look at data dimension is a good habit  :)\n",
    "print('X_train.shape: ', X_train.shape)\n",
    "print('y_train.shape: ', y_train.shape)\n",
    "#print('X_test.shape: ', X_test.shape)\n",
    "#print('y_test.shape: ', y_test.shape)"
   ]
  },
  {
   "cell_type": "code",
   "execution_count": 18,
   "id": "ef07bb28-6317-4cf1-adf2-25f8997d5b8f",
   "metadata": {},
   "outputs": [
    {
     "name": "stdout",
     "output_type": "stream",
     "text": [
      "training accuracy: 0.93\n"
     ]
    }
   ],
   "source": [
    "## build DecisionTree model\n",
    "DT_model = DecisionTreeClassifier(random_state=1)\n",
    "\n",
    "## training!\n",
    "DT_model = DT_model.fit(X_train, y_train)\n",
    "\n",
    "## predict!\n",
    "y_train_pred = DT_model.predict(X_train)\n",
    "\n",
    "\n",
    "from sklearn.metrics import accuracy_score\n",
    "\n",
    "# 計算訓練集的準確度(Decision Tree)\n",
    "acc_train = accuracy_score(y_true=y_train, y_pred=y_train_pred)\n",
    "\n",
    "# 輸出準確度，將結果四捨五入保留兩位小數\n",
    "print('training accuracy: {}'.format(round(acc_train, 2)))\n",
    "DTA = round(acc_train, 2)"
   ]
  },
  {
   "cell_type": "markdown",
   "id": "39129c28",
   "metadata": {},
   "source": [
    "### 3.1-1 Naive Bays"
   ]
  },
  {
   "cell_type": "code",
   "execution_count": 19,
   "id": "3920c624",
   "metadata": {},
   "outputs": [
    {
     "name": "stdout",
     "output_type": "stream",
     "text": [
      "training accuracy: 0.43\n"
     ]
    }
   ],
   "source": [
    "from sklearn.naive_bayes import MultinomialNB\n",
    "from sklearn.feature_extraction.text import CountVectorizer\n",
    "from sklearn.metrics import accuracy_score, classification_report, confusion_matrix\n",
    "import seaborn as sns\n",
    "import matplotlib.pyplot as plt\n",
    "import numpy as np\n",
    "\n",
    "# Step 1: 特徵提取 (BOW)\n",
    "vectorizer = CountVectorizer(max_features=500)  # 設置最大特徵數為 500\n",
    "X_train = vectorizer.fit_transform(train_data[\"text\"])\n",
    "X_test = vectorizer.transform(test_data[\"text\"])\n",
    "y_train = train_data[\"emotion\"]\n",
    "y_test = test_data[\"emotion\"]\n",
    "\n",
    "# Step 2: 建立和訓練 Naive Bayes 模型\n",
    "nb_model = MultinomialNB()\n",
    "nb_model.fit(X_train, y_train)\n",
    "\n",
    "# Step 3: 模型預測\n",
    "y_train_pred = nb_model.predict(X_train)\n",
    "\n",
    "# 計算訓練集的準確度(Naive Bayes)\n",
    "acc_train = accuracy_score(y_true=y_train, y_pred=y_train_pred)\n",
    "\n",
    "# 輸出準確度，將結果四捨五入保留兩位小數\n",
    "print('training accuracy: {}'.format(round(acc_train, 2)))\n",
    "NBA = round(acc_train, 2)"
   ]
  },
  {
   "cell_type": "markdown",
   "id": "92135645",
   "metadata": {},
   "source": [
    "---\n",
    "## 4. Results Evaluation"
   ]
  },
  {
   "cell_type": "markdown",
   "id": "59870b7a",
   "metadata": {},
   "source": [
    "在此競賽中，只有提供training data，我們需要提交的是對test data的預測"
   ]
  },
  {
   "cell_type": "code",
   "execution_count": 15,
   "id": "190fa090",
   "metadata": {},
   "outputs": [
    {
     "name": "stdout",
     "output_type": "stream",
     "text": [
      "Decision Tree Accuracy= 0.97\n",
      "Naive Bayes Accuracy 0.43\n"
     ]
    }
   ],
   "source": [
    "# 使用上面訓練的模型來預測test的情緒，測試決策樹還有Naive Bays不同訓練方式出來的模型\n",
    "print('Decision Tree Accuracy=', DTA)\n",
    "print('Naive Bayes Accuracy', NBA)"
   ]
  },
  {
   "cell_type": "code",
   "execution_count": 20,
   "id": "b08cef2b",
   "metadata": {},
   "outputs": [],
   "source": [
    "# 分別使用兩種模型來訓練測試資料集\n",
    "DT_test_pred = DT_model.predict(X_test)\n",
    "#NB_test_pred = nb_model.predict(X_test)\n",
    "#print(type(DT_test_pred))"
   ]
  },
  {
   "cell_type": "code",
   "execution_count": 1,
   "id": "06a346cb",
   "metadata": {},
   "outputs": [
    {
     "ename": "NameError",
     "evalue": "name 'test_data' is not defined",
     "output_type": "error",
     "traceback": [
      "\u001b[0;31m---------------------------------------------------------------------------\u001b[0m",
      "\u001b[0;31mNameError\u001b[0m                                 Traceback (most recent call last)",
      "\u001b[0;32m/var/folders/lx/4bn5cmyn63b1p7gtb6m71jch0000gn/T/ipykernel_66787/3292349440.py\u001b[0m in \u001b[0;36m<module>\u001b[0;34m\u001b[0m\n\u001b[1;32m      2\u001b[0m \u001b[0;34m\u001b[0m\u001b[0m\n\u001b[1;32m      3\u001b[0m result_df = pd.DataFrame({\n\u001b[0;32m----> 4\u001b[0;31m     \u001b[0;34m'id'\u001b[0m\u001b[0;34m:\u001b[0m \u001b[0mtest_data\u001b[0m\u001b[0;34m[\u001b[0m\u001b[0;34m'tweet_id'\u001b[0m\u001b[0;34m]\u001b[0m\u001b[0;34m,\u001b[0m\u001b[0;34m\u001b[0m\u001b[0;34m\u001b[0m\u001b[0m\n\u001b[0m\u001b[1;32m      5\u001b[0m     \u001b[0;34m'emotion'\u001b[0m\u001b[0;34m:\u001b[0m \u001b[0mDT_test_pred\u001b[0m\u001b[0;34m\u001b[0m\u001b[0;34m\u001b[0m\u001b[0m\n\u001b[1;32m      6\u001b[0m })\n",
      "\u001b[0;31mNameError\u001b[0m: name 'test_data' is not defined"
     ]
    }
   ],
   "source": [
    "import pandas as pd\n",
    "\n",
    "result_df = pd.DataFrame({\n",
    "    'id': test_data['tweet_id'],\n",
    "    'emotion': DT_test_pred\n",
    "})\n",
    "\n",
    "# 將 DataFrame 保存為 CSV 文件，並且不包含索引列\n",
    "result_df.to_csv(\"prediction_results_ver1.csv\", index=False)\n",
    "\n",
    "test_data"
   ]
  }
 ],
 "metadata": {
  "kernelspec": {
   "display_name": "base",
   "language": "python",
   "name": "python3"
  },
  "language_info": {
   "codemirror_mode": {
    "name": "ipython",
    "version": 3
   },
   "file_extension": ".py",
   "mimetype": "text/x-python",
   "name": "python",
   "nbconvert_exporter": "python",
   "pygments_lexer": "ipython3",
   "version": "3.9.20"
  }
 },
 "nbformat": 4,
 "nbformat_minor": 5
}
