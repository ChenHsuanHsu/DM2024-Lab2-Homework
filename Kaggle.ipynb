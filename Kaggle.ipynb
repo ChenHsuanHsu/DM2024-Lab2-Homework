{
 "cells": [
  {
   "cell_type": "markdown",
   "id": "f5a0acbd-16bc-40fd-8063-155ee5dcb35f",
   "metadata": {},
   "source": [
    "### tweets emotion prediction\n",
    "homework in DMLab2"
   ]
  },
  {
   "cell_type": "markdown",
   "id": "bae66f0f-5b3a-4925-bbbf-95c306a0f51c",
   "metadata": {},
   "source": [
    "## 1.1 Load data\n",
    "explore the raw data (.json) in explore_json.ipynb in file under Homework\n",
    "transform it to dataframe"
   ]
  },
  {
   "cell_type": "code",
   "execution_count": 1,
   "id": "0f064b29-7831-44a3-a143-f632866bad7f",
   "metadata": {},
   "outputs": [],
   "source": [
    "import json\n",
    "import pandas as pd\n",
    "\n",
    "# 存儲提取數據的列表\n",
    "tweets_data = []\n",
    "\n",
    "# 讀取 JSON 文件\n",
    "with open('dm-2024-isa-5810-lab-2-homework/tweets_DM.json', 'r') as file:\n",
    "    for line in file:\n",
    "        try:\n",
    "            # 解析 JSON 每行\n",
    "            tweet = json.loads(line)\n",
    "            # 提取所需的欄位\n",
    "            tweet_id = tweet[\"_source\"][\"tweet\"].get(\"tweet_id\")\n",
    "            text = tweet[\"_source\"][\"tweet\"].get(\"text\")\n",
    "            #hashtags = tweet[\"_source\"][\"tweet\"].get(\"hashtags\", [])\n",
    "            #crawldate = tweet.get(\"_crawldate\")\n",
    "\n",
    "            # 將提取的欄位存入字典，並添加到列表中\n",
    "            tweets_data.append({\n",
    "                \"tweet_id\": tweet_id,\n",
    "                \"text\": text,\n",
    "                #\"hashtags\": hashtags,\n",
    "                #\"crawldate\": crawldate\n",
    "            })\n",
    "        except json.JSONDecodeError as e:\n",
    "            print(\"JSON decode error:\", e)\n",
    "\n",
    "# 將提取的數據轉換為 DataFrame\n",
    "df = pd.DataFrame(tweets_data)\n",
    "\n",
    "# 查看數據框內容\n",
    "#print(df)"
   ]
  },
  {
   "cell_type": "markdown",
   "id": "1bd73c9e-e40c-49fa-93ca-eff4f41fc7fb",
   "metadata": {},
   "source": [
    "using files provided on Kaggle to classify the training and testing data  \n",
    "  \n",
    "### interpret for the data  \n",
    "描述訓練資料集的特徵  \n",
    "describe features in training data"
   ]
  },
  {
   "cell_type": "code",
   "execution_count": 2,
   "id": "5decd8b6-c2a1-4a4c-b5dc-a9d3553212d4",
   "metadata": {},
   "outputs": [
    {
     "data": {
      "text/html": [
       "<div>\n",
       "<style scoped>\n",
       "    .dataframe tbody tr th:only-of-type {\n",
       "        vertical-align: middle;\n",
       "    }\n",
       "\n",
       "    .dataframe tbody tr th {\n",
       "        vertical-align: top;\n",
       "    }\n",
       "\n",
       "    .dataframe thead th {\n",
       "        text-align: right;\n",
       "    }\n",
       "</style>\n",
       "<table border=\"1\" class=\"dataframe\">\n",
       "  <thead>\n",
       "    <tr style=\"text-align: right;\">\n",
       "      <th></th>\n",
       "      <th>tweet_id</th>\n",
       "      <th>text</th>\n",
       "      <th>identification</th>\n",
       "      <th>emotion</th>\n",
       "    </tr>\n",
       "  </thead>\n",
       "  <tbody>\n",
       "    <tr>\n",
       "      <th>0</th>\n",
       "      <td>0x376b20</td>\n",
       "      <td>People who post \"add me on #Snapchat\" must be ...</td>\n",
       "      <td>train</td>\n",
       "      <td>anticipation</td>\n",
       "    </tr>\n",
       "    <tr>\n",
       "      <th>1</th>\n",
       "      <td>0x2d5350</td>\n",
       "      <td>@brianklaas As we see, Trump is dangerous to #...</td>\n",
       "      <td>train</td>\n",
       "      <td>sadness</td>\n",
       "    </tr>\n",
       "    <tr>\n",
       "      <th>2</th>\n",
       "      <td>0x28b412</td>\n",
       "      <td>Confident of your obedience, I write to you, k...</td>\n",
       "      <td>test</td>\n",
       "      <td>NaN</td>\n",
       "    </tr>\n",
       "    <tr>\n",
       "      <th>3</th>\n",
       "      <td>0x1cd5b0</td>\n",
       "      <td>Now ISSA is stalking Tasha 😂😂😂 &lt;LH&gt;</td>\n",
       "      <td>train</td>\n",
       "      <td>fear</td>\n",
       "    </tr>\n",
       "    <tr>\n",
       "      <th>4</th>\n",
       "      <td>0x2de201</td>\n",
       "      <td>\"Trust is not the same as faith. A friend is s...</td>\n",
       "      <td>test</td>\n",
       "      <td>NaN</td>\n",
       "    </tr>\n",
       "    <tr>\n",
       "      <th>...</th>\n",
       "      <td>...</td>\n",
       "      <td>...</td>\n",
       "      <td>...</td>\n",
       "      <td>...</td>\n",
       "    </tr>\n",
       "    <tr>\n",
       "      <th>1867530</th>\n",
       "      <td>0x316b80</td>\n",
       "      <td>When you buy the last 2 tickets remaining for ...</td>\n",
       "      <td>test</td>\n",
       "      <td>NaN</td>\n",
       "    </tr>\n",
       "    <tr>\n",
       "      <th>1867531</th>\n",
       "      <td>0x29d0cb</td>\n",
       "      <td>I swear all this hard work gone pay off one da...</td>\n",
       "      <td>test</td>\n",
       "      <td>NaN</td>\n",
       "    </tr>\n",
       "    <tr>\n",
       "      <th>1867532</th>\n",
       "      <td>0x2a6a4f</td>\n",
       "      <td>@Parcel2Go no card left when I wasn't in so I ...</td>\n",
       "      <td>test</td>\n",
       "      <td>NaN</td>\n",
       "    </tr>\n",
       "    <tr>\n",
       "      <th>1867533</th>\n",
       "      <td>0x24faed</td>\n",
       "      <td>Ah, corporate life, where you can date &lt;LH&gt; us...</td>\n",
       "      <td>train</td>\n",
       "      <td>joy</td>\n",
       "    </tr>\n",
       "    <tr>\n",
       "      <th>1867534</th>\n",
       "      <td>0x34be8c</td>\n",
       "      <td>Blessed to be living #Sundayvibes &lt;LH&gt;</td>\n",
       "      <td>train</td>\n",
       "      <td>joy</td>\n",
       "    </tr>\n",
       "  </tbody>\n",
       "</table>\n",
       "<p>1867535 rows × 4 columns</p>\n",
       "</div>"
      ],
      "text/plain": [
       "         tweet_id                                               text  \\\n",
       "0        0x376b20  People who post \"add me on #Snapchat\" must be ...   \n",
       "1        0x2d5350  @brianklaas As we see, Trump is dangerous to #...   \n",
       "2        0x28b412  Confident of your obedience, I write to you, k...   \n",
       "3        0x1cd5b0                Now ISSA is stalking Tasha 😂😂😂 <LH>   \n",
       "4        0x2de201  \"Trust is not the same as faith. A friend is s...   \n",
       "...           ...                                                ...   \n",
       "1867530  0x316b80  When you buy the last 2 tickets remaining for ...   \n",
       "1867531  0x29d0cb  I swear all this hard work gone pay off one da...   \n",
       "1867532  0x2a6a4f  @Parcel2Go no card left when I wasn't in so I ...   \n",
       "1867533  0x24faed  Ah, corporate life, where you can date <LH> us...   \n",
       "1867534  0x34be8c             Blessed to be living #Sundayvibes <LH>   \n",
       "\n",
       "        identification       emotion  \n",
       "0                train  anticipation  \n",
       "1                train       sadness  \n",
       "2                 test           NaN  \n",
       "3                train          fear  \n",
       "4                 test           NaN  \n",
       "...                ...           ...  \n",
       "1867530           test           NaN  \n",
       "1867531           test           NaN  \n",
       "1867532           test           NaN  \n",
       "1867533          train           joy  \n",
       "1867534          train           joy  \n",
       "\n",
       "[1867535 rows x 4 columns]"
      ]
     },
     "execution_count": 2,
     "metadata": {},
     "output_type": "execute_result"
    }
   ],
   "source": [
    "classify = pd.read_csv('dm-2024-isa-5810-lab-2-homework/data_identification.csv')  # 包含 tweet_id 和 identification\n",
    "emotion = pd.read_csv('dm-2024-isa-5810-lab-2-homework/emotion.csv')  # 包含 tweet_id 和 emotion\n",
    "data = pd.merge(df, classify, on='tweet_id', how='inner')\n",
    "data = pd.merge(data, emotion, on='tweet_id', how='outer')\n",
    "data # 將情緒特徵及資料分類欄位加入相同dataframe"
   ]
  },
  {
   "cell_type": "code",
   "execution_count": 3,
   "id": "4d9488b4-c437-45fe-a8c5-b3ee0d14604b",
   "metadata": {},
   "outputs": [
    {
     "data": {
      "text/html": [
       "<div>\n",
       "<style scoped>\n",
       "    .dataframe tbody tr th:only-of-type {\n",
       "        vertical-align: middle;\n",
       "    }\n",
       "\n",
       "    .dataframe tbody tr th {\n",
       "        vertical-align: top;\n",
       "    }\n",
       "\n",
       "    .dataframe thead th {\n",
       "        text-align: right;\n",
       "    }\n",
       "</style>\n",
       "<table border=\"1\" class=\"dataframe\">\n",
       "  <thead>\n",
       "    <tr style=\"text-align: right;\">\n",
       "      <th></th>\n",
       "      <th>tweet_id</th>\n",
       "      <th>text</th>\n",
       "      <th>identification</th>\n",
       "      <th>emotion</th>\n",
       "    </tr>\n",
       "  </thead>\n",
       "  <tbody>\n",
       "    <tr>\n",
       "      <th>12</th>\n",
       "      <td>0x1fde89</td>\n",
       "      <td>Can someone tell my why my feeds scroll back t...</td>\n",
       "      <td>train</td>\n",
       "      <td>anger</td>\n",
       "    </tr>\n",
       "    <tr>\n",
       "      <th>14</th>\n",
       "      <td>0x269112</td>\n",
       "      <td>My brother didn't tell me he was going to horr...</td>\n",
       "      <td>train</td>\n",
       "      <td>anger</td>\n",
       "    </tr>\n",
       "    <tr>\n",
       "      <th>28</th>\n",
       "      <td>0x2452c9</td>\n",
       "      <td>Millions of purple cushion-footed balderdash !...</td>\n",
       "      <td>train</td>\n",
       "      <td>anger</td>\n",
       "    </tr>\n",
       "    <tr>\n",
       "      <th>40</th>\n",
       "      <td>0x2ac7bd</td>\n",
       "      <td>Hangry and ready to snap. #hangry &lt;LH&gt; #needfo...</td>\n",
       "      <td>train</td>\n",
       "      <td>anger</td>\n",
       "    </tr>\n",
       "    <tr>\n",
       "      <th>59</th>\n",
       "      <td>0x2d29d1</td>\n",
       "      <td>&lt;LH&gt; that’s how we women are. So we are tweeti...</td>\n",
       "      <td>train</td>\n",
       "      <td>anger</td>\n",
       "    </tr>\n",
       "    <tr>\n",
       "      <th>...</th>\n",
       "      <td>...</td>\n",
       "      <td>...</td>\n",
       "      <td>...</td>\n",
       "      <td>...</td>\n",
       "    </tr>\n",
       "    <tr>\n",
       "      <th>1867353</th>\n",
       "      <td>0x234c16</td>\n",
       "      <td>@deadskulltweets I'm mad you didn't win! You s...</td>\n",
       "      <td>train</td>\n",
       "      <td>anger</td>\n",
       "    </tr>\n",
       "    <tr>\n",
       "      <th>1867437</th>\n",
       "      <td>0x1de250</td>\n",
       "      <td>Billions of miserable blistering anthropithecc...</td>\n",
       "      <td>train</td>\n",
       "      <td>anger</td>\n",
       "    </tr>\n",
       "    <tr>\n",
       "      <th>1867465</th>\n",
       "      <td>0x269ca3</td>\n",
       "      <td>@ndtv Well this is new! terrorists are killing...</td>\n",
       "      <td>train</td>\n",
       "      <td>anger</td>\n",
       "    </tr>\n",
       "    <tr>\n",
       "      <th>1867468</th>\n",
       "      <td>0x2a796c</td>\n",
       "      <td>Omg. Don’t wait til chapter 47 to introduce a ...</td>\n",
       "      <td>train</td>\n",
       "      <td>anger</td>\n",
       "    </tr>\n",
       "    <tr>\n",
       "      <th>1867500</th>\n",
       "      <td>0x348b96</td>\n",
       "      <td>I've got Agust D stuck in my head. WHY CANT YO...</td>\n",
       "      <td>train</td>\n",
       "      <td>anger</td>\n",
       "    </tr>\n",
       "  </tbody>\n",
       "</table>\n",
       "<p>39867 rows × 4 columns</p>\n",
       "</div>"
      ],
      "text/plain": [
       "         tweet_id                                               text  \\\n",
       "12       0x1fde89  Can someone tell my why my feeds scroll back t...   \n",
       "14       0x269112  My brother didn't tell me he was going to horr...   \n",
       "28       0x2452c9  Millions of purple cushion-footed balderdash !...   \n",
       "40       0x2ac7bd  Hangry and ready to snap. #hangry <LH> #needfo...   \n",
       "59       0x2d29d1  <LH> that’s how we women are. So we are tweeti...   \n",
       "...           ...                                                ...   \n",
       "1867353  0x234c16  @deadskulltweets I'm mad you didn't win! You s...   \n",
       "1867437  0x1de250  Billions of miserable blistering anthropithecc...   \n",
       "1867465  0x269ca3  @ndtv Well this is new! terrorists are killing...   \n",
       "1867468  0x2a796c  Omg. Don’t wait til chapter 47 to introduce a ...   \n",
       "1867500  0x348b96  I've got Agust D stuck in my head. WHY CANT YO...   \n",
       "\n",
       "        identification emotion  \n",
       "12               train   anger  \n",
       "14               train   anger  \n",
       "28               train   anger  \n",
       "40               train   anger  \n",
       "59               train   anger  \n",
       "...                ...     ...  \n",
       "1867353          train   anger  \n",
       "1867437          train   anger  \n",
       "1867465          train   anger  \n",
       "1867468          train   anger  \n",
       "1867500          train   anger  \n",
       "\n",
       "[39867 rows x 4 columns]"
      ]
     },
     "execution_count": 3,
     "metadata": {},
     "output_type": "execute_result"
    }
   ],
   "source": [
    "# 將 data_identification 中 identification 欄位值為 'train' 的選出來作為訓練集\n",
    "train_data = data[data['identification'] == 'train']\n",
    "\n",
    "# 將 identification 欄位值為 'test' 的選出來作為測試集\n",
    "test_data = data[data['identification'] == 'test']\n",
    "\n",
    "# 所有情感emotion in emotion.csv\n",
    "emotions = data['emotion'].unique()\n",
    "\n",
    "# 使用字典來存儲不同情感的訓練集\n",
    "train_data_by_emotion = {emotion: train_data[train_data['emotion'] == emotion] for emotion in emotions}\n",
    "\n",
    "# 使用字典管理子 DataFrame\n",
    "sub_dfs = {emotion: train_data_by_emotion[emotion] for emotion in emotions}\n",
    "sub_dfs['anger'] # example for extract specific emotion"
   ]
  },
  {
   "cell_type": "markdown",
   "id": "7badc59c-a582-443a-b28d-a551f3c0da18",
   "metadata": {},
   "source": [
    "使用時用 print(sub_dfs['anger'].head())直接從datareame中提取"
   ]
  },
  {
   "cell_type": "code",
   "execution_count": 4,
   "id": "93c50cb7-e2e7-4c38-a6d4-1f9f72d22be5",
   "metadata": {},
   "outputs": [],
   "source": [
    "# shuffle dataset\n",
    "train_data = train_data.sample(frac=0.5)\n",
    "test_data = test_data.sample(frac=0.5)"
   ]
  },
  {
   "cell_type": "markdown",
   "id": "703e849a-04a6-49d3-be1a-cbb48ca3a26f",
   "metadata": {},
   "source": [
    "---\n",
    "### 1.2 Save data  \n",
    "儲存資料，用比較不佔空間且容易在跨平台使用的格式  \n",
    "save data in smaller size"
   ]
  },
  {
   "cell_type": "code",
   "execution_count": 5,
   "id": "99b4ddb1-2705-4066-b2e0-96b115c46811",
   "metadata": {},
   "outputs": [],
   "source": [
    "import pandas as pd\n",
    "\n",
    "## save to pickle file\n",
    "train_data.to_pickle(\"train_data.pkl\") \n",
    "test_data.to_pickle(\"test_data.pkl\")\n",
    "\n",
    "## load a pickle file\n",
    "train_data = pd.read_pickle(\"train_data.pkl\")\n",
    "test_data = pd.read_pickle(\"test_data.pkl\")"
   ]
  },
  {
   "cell_type": "markdown",
   "id": "dd011800-ef59-4909-92dd-73a1ff178e21",
   "metadata": {},
   "source": [
    "---\n",
    "### 1.3 Exploratory data analysis (EDA)"
   ]
  },
  {
   "cell_type": "markdown",
   "id": "9fb16ee5-ace0-4df1-9878-4be230b633cd",
   "metadata": {},
   "source": [
    "繪製出所有訓練資料集的情感分布（百分比）"
   ]
  },
  {
   "cell_type": "code",
   "execution_count": 6,
   "id": "c0ea8427-4e3e-4850-8516-c97c5b4de186",
   "metadata": {},
   "outputs": [
    {
     "data": {
      "image/png": "[encoded data removed]",
      "text/plain": [
       "<Figure size 800x500 with 1 Axes>"
      ]
     },
     "metadata": {},
     "output_type": "display_data"
    }
   ],
   "source": [
    "# %matplotlib inline\n",
    "import numpy as np\n",
    "import matplotlib.pyplot as plt\n",
    "\n",
    "# `emotions` 是包含所有情感類別的列表，在先前已有定義； `train_data` 包含所有訓練數據\n",
    "labels = emotions\n",
    "post_total = len(train_data)\n",
    "\n",
    "# 計算每個情感的頻率 frequency\n",
    "d_bar = train_data.groupby(['emotion']).count()['text'] / post_total * 100  # 計算每個情感的佔比（百分比）\n",
    "\n",
    "# 繪製直方圖\n",
    "fig, ax = plt.subplots(figsize=(8, 5))\n",
    "plt.bar(d_bar.index, d_bar.values)  # 使用 d_bar 進行繪製\n",
    "\n",
    "# 設置圖表標題和標籤\n",
    "plt.ylabel('% of instances')\n",
    "plt.xlabel('Emotion')\n",
    "plt.title('Emotion Distribution')\n",
    "plt.grid(True)\n",
    "plt.show()"
   ]
  },
  {
   "cell_type": "markdown",
   "id": "75591fc0-b2c2-42e3-8ba8-b81938fab823",
   "metadata": {},
   "source": [
    "可以觀察到在所有訓練集中，分佈最多的是joy（愉悅、快樂）。 此百分比代表了被發布的推文中，隨著貼文帶著的情緒。  \n",
    "  \n",
    "接著開始分析文本，將文字轉換成向量"
   ]
  },
  {
   "cell_type": "markdown",
   "id": "b18bdf91-01c1-499e-81bf-59aba5a0dc31",
   "metadata": {},
   "source": [
    "## 2. Feature engineering\n",
    "### Using Bag of Words\n",
    "Using scikit-learn ```CountVectorizer``` perform word frequency and use these as features to train a model.  "
   ]
  },
  {
   "cell_type": "markdown",
   "id": "d9e6f5c4-3dd7-439c-b593-182cb0217dbf",
   "metadata": {},
   "source": [
    "tokenizer"
   ]
  },
  {
   "cell_type": "code",
   "execution_count": 7,
   "id": "282b4cf4-db2f-45ce-963e-13be5917c48d",
   "metadata": {},
   "outputs": [],
   "source": [
    "from sklearn.feature_extraction.text import CountVectorizer"
   ]
  },
  {
   "cell_type": "code",
   "execution_count": 8,
   "id": "bd9cf798-cec1-4edd-ab41-c1c349d2f41e",
   "metadata": {},
   "outputs": [],
   "source": [
    "# build analyzers (bag-of-words)\n",
    "BOW_vectorizer = CountVectorizer() "
   ]
  },
  {
   "cell_type": "code",
   "execution_count": 9,
   "id": "ea7f8ab6-ceb5-4966-a6e9-9dcc7fdc751a",
   "metadata": {},
   "outputs": [
    {
     "name": "stderr",
     "output_type": "stream",
     "text": [
      "/opt/anaconda3/lib/python3.9/site-packages/sklearn/feature_extraction/text.py:521: UserWarning: The parameter 'token_pattern' will not be used since 'tokenizer' is not None'\n",
      "  warnings.warn(\n"
     ]
    },
    {
     "data": {
      "text/plain": [
       "array([[0, 2, 0, ..., 0, 0, 0],\n",
       "       [0, 0, 0, ..., 0, 0, 0],\n",
       "       [0, 1, 0, ..., 0, 0, 0],\n",
       "       ...,\n",
       "       [0, 0, 0, ..., 0, 0, 0],\n",
       "       [0, 0, 0, ..., 0, 0, 0],\n",
       "       [0, 0, 0, ..., 0, 0, 0]])"
      ]
     },
     "execution_count": 9,
     "metadata": {},
     "output_type": "execute_result"
    }
   ],
   "source": [
    "import nltk\n",
    "# build analyzers (bag-of-words)\n",
    "BOW_500 = CountVectorizer(max_features=500, tokenizer=nltk.word_tokenize) \n",
    "\n",
    "\n",
    "# apply analyzer to training data\n",
    "BOW_500.fit(train_data['text'])\n",
    "\n",
    "train_data_BOW_features_500 = BOW_500.transform(train_data['text'])\n",
    "\n",
    "## check dimension\n",
    "train_data_BOW_features_500.shape\n",
    "\n",
    "## adjust its type for visualize\n",
    "train_data_BOW_features_500.toarray()"
   ]
  },
  {
   "cell_type": "code",
   "execution_count": 10,
   "id": "99ac65a5",
   "metadata": {},
   "outputs": [
    {
     "data": {
      "text/plain": [
       "True"
      ]
     },
     "execution_count": 10,
     "metadata": {},
     "output_type": "execute_result"
    }
   ],
   "source": [
    "# observe some feature names\n",
    "feature_names_500 = BOW_500.get_feature_names_out()\n",
    "\"😂\" in feature_names_500"
   ]
  },
  {
   "cell_type": "markdown",
   "id": "76a17d65",
   "metadata": {},
   "source": [
    "---\n",
    "## 3. Model\n",
    "### 3.1 Decision Trees\n",
    "Using scikit-learn ```DecisionTreeClassifier``` performs word frequency and uses these as features to train a model.  "
   ]
  },
  {
   "cell_type": "code",
   "execution_count": 11,
   "id": "de07f40e-eb9e-45b9-aa15-19d6d79c0364",
   "metadata": {},
   "outputs": [
    {
     "name": "stdout",
     "output_type": "stream",
     "text": [
      "X_train.shape:  (727782, 500)\n",
      "y_train.shape:  (727782,)\n",
      "X_test.shape:  (205986, 500)\n",
      "y_test.shape:  (205986,)\n"
     ]
    }
   ],
   "source": [
    "from sklearn.tree import DecisionTreeClassifier\n",
    "\n",
    "# for a classificaiton problem, you need to provide both training & testing data\n",
    "X_train = BOW_500.transform(train_data['text'])\n",
    "y_train = train_data['emotion']\n",
    "\n",
    "X_test = BOW_500.transform(test_data['text'])\n",
    "y_test = test_data['emotion']\n",
    "\n",
    "## take a look at data dimension is a good habit  :)\n",
    "print('X_train.shape: ', X_train.shape)\n",
    "print('y_train.shape: ', y_train.shape)\n",
    "print('X_test.shape: ', X_test.shape)\n",
    "print('y_test.shape: ', y_test.shape)"
   ]
  },
  {
   "cell_type": "code",
   "execution_count": 18,
   "id": "ef07bb28-6317-4cf1-adf2-25f8997d5b8f",
   "metadata": {},
   "outputs": [
    {
     "name": "stdout",
     "output_type": "stream",
     "text": [
      "training accuracy: 0.93\n"
     ]
    }
   ],
   "source": [
    "## build DecisionTree model\n",
    "DT_model = DecisionTreeClassifier(random_state=1)\n",
    "\n",
    "## training!\n",
    "DT_model = DT_model.fit(X_train, y_train)\n",
    "\n",
    "## predict!\n",
    "y_train_pred = DT_model.predict(X_train)\n",
    "y_test_pred = DT_model.predict(X_test)\n",
    "\n",
    "## so we get the pred result\n",
    "y_test_pred[:10]\n",
    "\n",
    "from sklearn.metrics import accuracy_score\n",
    "\n",
    "# 計算訓練和測試集的準確度\n",
    "acc_train = accuracy_score(y_true=y_train, y_pred=y_train_pred)\n",
    "\n",
    "# 輸出準確度，將結果四捨五入保留兩位小數\n",
    "print('training accuracy: {}'.format(round(acc_train, 2)))"
   ]
  },
  {
   "cell_type": "markdown",
   "id": "39129c28",
   "metadata": {},
   "source": [
    "### 3.1-1 Naive Bays"
   ]
  },
  {
   "cell_type": "code",
   "execution_count": 13,
   "id": "3920c624",
   "metadata": {},
   "outputs": [],
   "source": [
    "from sklearn.naive_bayes import MultinomialNB\n",
    "from sklearn.feature_extraction.text import CountVectorizer\n",
    "from sklearn.metrics import accuracy_score, classification_report, confusion_matrix\n",
    "import seaborn as sns\n",
    "import matplotlib.pyplot as plt\n",
    "import numpy as np\n",
    "\n",
    "# Step 1: 特徵提取 (BOW)\n",
    "vectorizer = CountVectorizer(max_features=500)  # 設置最大特徵數為 500\n",
    "X_train = vectorizer.fit_transform(train_data[\"text\"])\n",
    "X_test = vectorizer.transform(test_data[\"text\"])\n",
    "y_train = train_data[\"emotion\"]\n",
    "y_test = test_data[\"emotion\"]\n",
    "\n",
    "# Step 2: 建立和訓練 Naive Bayes 模型\n",
    "nb_model = MultinomialNB()\n",
    "nb_model.fit(X_train, y_train)\n",
    "\n",
    "# Step 3: 模型預測\n",
    "y_train_pred = nb_model.predict(X_train)\n",
    "y_test_pred = nb_model.predict(X_test)"
   ]
  },
  {
   "cell_type": "markdown",
   "id": "92135645",
   "metadata": {},
   "source": [
    "---\n",
    "## 4. Results Evaluation"
   ]
  },
  {
   "cell_type": "code",
   "execution_count": 14,
   "id": "994468e4",
   "metadata": {},
   "outputs": [
    {
     "name": "stdout",
     "output_type": "stream",
     "text": [
      "training accuracy: 0.43\n"
     ]
    }
   ],
   "source": [
    "from sklearn.metrics import accuracy_score\n",
    "\n",
    "# 計算訓練和測試集的準確度\n",
    "acc_train = accuracy_score(y_true=y_train, y_pred=y_train_pred)\n",
    "\n",
    "# 輸出準確度，將結果四捨五入保留兩位小數\n",
    "print('training accuracy: {}'.format(round(acc_train, 2)))"
   ]
  },
  {
   "cell_type": "markdown",
   "id": "59870b7a",
   "metadata": {},
   "source": [
    "在此競賽中，只有提供training data，我們需要提交的是對test data的預測"
   ]
  },
  {
   "cell_type": "code",
   "execution_count": 17,
   "id": "190fa090",
   "metadata": {},
   "outputs": [
    {
     "ename": "NameError",
     "evalue": "name 'X_submission' is not defined",
     "output_type": "error",
     "traceback": [
      "\u001b[0;31m---------------------------------------------------------------------------\u001b[0m",
      "\u001b[0;31mNameError\u001b[0m                                 Traceback (most recent call last)",
      "\u001b[0;32m/var/folders/lx/4bn5cmyn63b1p7gtb6m71jch0000gn/T/ipykernel_6946/1042370979.py\u001b[0m in \u001b[0;36m<module>\u001b[0;34m\u001b[0m\n\u001b[1;32m      1\u001b[0m \u001b[0;31m# 使用上面訓練的模型來預測test的情緒，測試決策樹還有Naive Bays不同訓練方式出來的模型\u001b[0m\u001b[0;34m\u001b[0m\u001b[0;34m\u001b[0m\u001b[0m\n\u001b[0;32m----> 2\u001b[0;31m \u001b[0my_submission_pred\u001b[0m \u001b[0;34m=\u001b[0m \u001b[0mDT_model\u001b[0m\u001b[0;34m.\u001b[0m\u001b[0mpredict\u001b[0m\u001b[0;34m(\u001b[0m\u001b[0mX_submission\u001b[0m\u001b[0;34m)\u001b[0m\u001b[0;34m\u001b[0m\u001b[0;34m\u001b[0m\u001b[0m\n\u001b[0m",
      "\u001b[0;31mNameError\u001b[0m: name 'X_submission' is not defined"
     ]
    }
   ],
   "source": [
    "# 使用上面訓練的模型來預測test的情緒，測試決策樹還有Naive Bays不同訓練方式出來的模型\n",
    "y_submission_pred = DT_model.predict(X_submission)"
   ]
  }
 ],
 "metadata": {
  "kernelspec": {
   "display_name": "base",
   "language": "python",
   "name": "python3"
  },
  "language_info": {
   "codemirror_mode": {
    "name": "ipython",
    "version": 3
   },
   "file_extension": ".py",
   "mimetype": "text/x-python",
   "name": "python",
   "nbconvert_exporter": "python",
   "pygments_lexer": "ipython3",
   "version": "3.9.20"
  }
 },
 "nbformat": 4,
 "nbformat_minor": 5
}
